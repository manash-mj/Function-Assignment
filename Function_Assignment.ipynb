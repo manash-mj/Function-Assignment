{
  "nbformat": 4,
  "nbformat_minor": 0,
  "metadata": {
    "colab": {
      "provenance": []
    },
    "kernelspec": {
      "name": "python3",
      "display_name": "Python 3"
    },
    "language_info": {
      "name": "python"
    }
  },
  "cells": [
    {
      "cell_type": "markdown",
      "source": [
        "# Theory Question"
      ],
      "metadata": {
        "id": "uilVY0uRc6xl"
      }
    },
    {
      "cell_type": "markdown",
      "source": [
        "1.  What is the difference between a function and a method in Python?\n",
        "\n",
        "  ->  Function: A block of code that does something, on its own.\n",
        "\n",
        "Method: A function that's part of a class or object, and works with that object's data\n",
        "\n",
        "\n",
        "example\n",
        "\n",
        "my_list = [1, 2, 3]\n",
        "my_list.append(4)\n",
        "\n",
        "print(len(my_list))\n",
        "print(my_list)\n",
        "\n",
        "text = \"Hello\"\n",
        "print(text.lower())\n",
        "\n",
        "2. Explain the concept of function arguments and parameters in Python.\n",
        "\n",
        "  ->  Parameters: Variables defined in a function's definition.\n",
        "\n",
        " Arguments: Values passed to a function when it's called.bold text.\n",
        "\n",
        "example\n",
        "\n",
        "def greet(name):  # name is a parameter\n",
        "    print(f\"Hello, {name}!\")\n",
        "\n",
        "greet(\"John\")  # \"John\" is an argument\n",
        "\n",
        "3.   What are the different ways to define and call a function in Python?\n",
        "\n",
        "  -> Defining Functions\n",
        "\n",
        "  \n",
        " 1. Basic Function:\n",
        "\n",
        "def greet(name):\n",
        "    print(f\"Hello, {name}!\")\n",
        "\n",
        "\n",
        "2. Default Argument Values:\n",
        "\n",
        "def greet(name = \"World\"):\n",
        "    print(f\"Hello, {name}!\")\n",
        "\n",
        "\n",
        "3. Variable Number of Arguments:\n",
        "\n",
        "def sum_numbers(*numbers):\n",
        "    return sum(numbers)\n",
        "\n",
        "\n",
        "4. Keyword Arguments:\n",
        "\n",
        "def greet(name, age):\n",
        "    print(f\"Hello, {name}! You are {age} years old.\")\n",
        "\n",
        "\n",
        "Calling Functions\n",
        "1. Positional Arguments:\n",
        "\n",
        "greet(\"John\", 30)\n",
        "\n",
        "\n",
        "2. Keyword Arguments:\n",
        "\n",
        "greet(name=\"John\", age=30)\n",
        "\n",
        "\n",
        "3. Mixing Positional and Keyword Arguments:\n",
        "\n",
        "greet(\"John\", age=30)\n",
        "\n",
        "\n",
        "4. Unpacking Arguments:\n",
        "\n",
        "args = (\"John\", 30)\n",
        "greet(*args)\n",
        "\n",
        "\n",
        "5. Unpacking Keyword Arguments:\n",
        "\n",
        "kwargs = {\"name\": \"John\", \"age\": 30}\n",
        "greet(**kwargs)\n",
        "\n",
        "4.   What is the purpose of the `return` statement in a Python function?\n",
        "\n",
        "  -> 1. Exits the function: Stops executing the function and returns control to the caller.\n",
        "\n",
        "2. Sends back a value: Allows the function to output a value that can be used by the caller.\n",
        "\n",
        " #example\n",
        "def add(a, b):\n",
        "    return a + b\n",
        "\n",
        "result = add(2, 3)\n",
        "print(result)  # 5\n",
        "\n",
        "5.  What are iterators in Python and how do they differ from iterables?\n",
        "\n",
        "  ->   Iterable: A collection of items (like a list) that you can loop through.\n",
        "- Iterator: A tool that helps you go through the items one by one.\n",
        "\n",
        "Example:\n",
        "\n",
        "fruits = ['apple', 'banana', 'cherry']  # iterable\n",
        "fruit_iterator = iter(fruits)  # iterator\n",
        "\n",
        "print(next(fruit_iterator))  # apple\n",
        "print(next(fruit_iterator))  # banana\n",
        "print(next(fruit_iterator))  # cherry\n",
        "\n",
        "6.  Explain the concept of generators in Python and how they are defined.\n",
        "\n",
        "  -> Generators: A special type of function that can be used to generate a sequence of values on-the-fly.\n",
        "- Key benefit: They allow you to create sequences without storing them in memory all at once.\n",
        "\n",
        "Defining Generators\n",
        "- Use the yield keyword instead of return.\n",
        "- When yield is encountered, the function returns a value and pauses.\n",
        "\n",
        "Example:\n",
        "\n",
        "def infinite_sequence():\n",
        "    num = 0\n",
        "    while True:\n",
        "        yield num\n",
        "        num += 1\n",
        "\n",
        "seq = infinite_sequence()\n",
        "print(next(seq))\n",
        "print(next(seq))\n",
        "print(next(seq))\n",
        "\n",
        "\n",
        "7.   7. What are the advantages of using generators over regular functions?\n",
        "\n",
        "\n",
        "  -> Memory Efficiency: Generators use less memory since they generate values on-the-fly and don't store the entire sequence.\n",
        "\n",
        "Example:\n",
        "\n",
        "def regular_function(n):\n",
        "    result = []\n",
        "    for i in range(n):\n",
        "        result.append(i)\n",
        "    return result\n",
        "\n",
        "def generator_function(n):\n",
        "    for i in range(n):\n",
        "        yield i\n",
        "\n",
        "Regular function\n",
        "numbers = regular_function(1000000)\n",
        "\n",
        "Generator\n",
        "numbers = generator_function(1000000)  \n",
        "for _ in range(10):\n",
        "    print(next(numbers))  \n",
        "\n",
        "8. What is a lambda function in Python and when is it typically used?\n",
        "\n",
        "  ->  Lambda functions: Small, anonymous functions defined using the lambda keyword.\n",
        "- Typical use cases:\n",
        "    - One-time use\n",
        "    - Simple operations\n",
        "    - As arguments to higher-order functions (e.g., map(), filter())\n",
        "\n",
        "Example:\n",
        "\n",
        "double = lambda x: x * 2\n",
        "print(double(5))  \n",
        "\n",
        "numbers = [1, 2, 3, 4, 5]\n",
        "squared_numbers = list(map(lambda x: x ** 2, numbers))\n",
        "print(squared_numbers)  \n",
        "\n",
        "9.  Explain the purpose and usage of the `map()` function in Python.\n",
        "\n",
        "  -> The map() function applies a given function to each item of an iterable (such as a list, tuple, or string) and returns a map object.\n",
        "\n",
        "Purpose\n",
        "- Apply a transformation to each element of an iterable.\n",
        "- Simplify code by avoiding loops.\n",
        "\n",
        "Usage\n",
        "map(function, iterable)\n",
        "\n",
        "Example\n",
        "\n",
        "def square(x):\n",
        "    return x ** 2\n",
        "\n",
        "numbers = [1, 2, 3, 4, 5]\n",
        "squared_numbers = list(map(square, numbers))\n",
        "print(squared_numbers)\n",
        "\n",
        "10.  What is the difference between `map()`, `reduce()`, and `filter()` functions in Python?\n",
        "\n",
        "  -> Map Function\n",
        "- Purpose: Apply a function to each item of an iterable.\n",
        "- Usage: map(function, iterable)\n",
        "- Result: A map object with transformed values.\n",
        "\n",
        "Reduce Function\n",
        "- Purpose: Apply a function to all items in an iterable, reducing them to a single output.\n",
        "- Usage: reduce(function, iterable)\n",
        "- Result: A single value.\n",
        "\n",
        "Filter Function\n",
        "- Purpose: Select items from an iterable that meet a condition.\n",
        "- Usage: filter(function, iterable)\n",
        "- Result: A filter object with selected values.\n",
        "\n",
        "Key Differences\n",
        "- map() transforms values, filter() selects values, and reduce() combines values.\n",
        "\n",
        "Example Code\n",
        "\n",
        "from functools import reduce\n",
        "\n",
        "numbers = [1, 2, 3, 4, 5]\n",
        "\n",
        " Map: double numbers\n",
        "\n",
        "doubled = list(map(lambda x: x * 2, numbers))\n",
        "print(doubled)\n",
        "\n",
        " Filter: select even numbers\n",
        "\n",
        "even = list(filter(lambda x: x % 2 == 0, numbers))\n",
        "print(even)\n",
        "\n",
        " Reduce: sum numbers\n",
        "\n",
        "sum_numbers = reduce(lambda x, y: x + y, numbers)\n",
        "print(sum_numbers)\n",
        "\n",
        "11. Using pen & Paper write the internal mechanism for sum operation using  reduce function on this given  list:[47,11,42,13];\n",
        "\n",
        "  ->\n",
        "\n",
        "numbers = [47, 11, 42, 13]\n",
        "result = reduce(lambda x, y: x + y, numbers)\n",
        "print(result)\n",
        "\n",
        "\n",
        "\n",
        "\n",
        "\n",
        "\n",
        "\n",
        "\n",
        "\n",
        "\n",
        "\n",
        "\n",
        "\n",
        "\n"
      ],
      "metadata": {
        "id": "PAXeFuwIdfaC"
      }
    },
    {
      "cell_type": "markdown",
      "source": [
        "# Practical Questions"
      ],
      "metadata": {
        "id": "OeesDD8471Uq"
      }
    },
    {
      "cell_type": "code",
      "source": [
        "# Write a Python function that takes a list of numbers as input and returns the sum of all even numbers in the list.\n",
        "def sum_even_numbers(numbers):\n",
        "    sum_even = 0\n",
        "    for num in numbers:\n",
        "        if num % 2 == 0:\n",
        "            sum_even += num\n",
        "    return sum_even\n",
        "my_list = [1, 2, 3, 4, 5, 6, 7, 8, 9, 10]\n",
        "result = sum_even_numbers(my_list)\n",
        "print(result)"
      ],
      "metadata": {
        "id": "owaQTdREgMEo",
        "colab": {
          "base_uri": "https://localhost:8080/"
        },
        "outputId": "2653a265-a25e-4758-e679-b525d68e199d"
      },
      "execution_count": 14,
      "outputs": [
        {
          "output_type": "stream",
          "name": "stdout",
          "text": [
            "30\n"
          ]
        }
      ]
    },
    {
      "cell_type": "code",
      "source": [
        "# Create a Python function that accepts a string and returns the reverse of that string.\n",
        "\n",
        "# Example usage:\n",
        "my_string = \"Hello, World!\"\n",
        "reversed_result = reverse_string(my_string)\n",
        "print(f\"The original string is: {my_string}\")\n",
        "print(f\"The reversed string is: {reversed_result}\")"
      ],
      "metadata": {
        "colab": {
          "base_uri": "https://localhost:8080/"
        },
        "id": "4SjONqEl9FwJ",
        "outputId": "fe0cf9fb-0a3d-44b4-a257-5719d5cbcca3"
      },
      "execution_count": 16,
      "outputs": [
        {
          "output_type": "stream",
          "name": "stdout",
          "text": [
            "The original string is: Hello, World!\n",
            "The reversed string is: !dlroW ,olleH\n"
          ]
        }
      ]
    },
    {
      "cell_type": "code",
      "source": [
        "#  Implement a Python function that takes a list of integers and returns a new list containing the squares of each number.\n",
        "def square_numbers(numbers):\n",
        "    squared_list = []\n",
        "    for number in numbers:\n",
        "        squared_list.append(number ** 2)\n",
        "    return squared_list\n",
        "\n",
        "# Example usage:\n",
        "my_list = [1, 2, 3, 4, 5]\n",
        "squared_result = square_numbers(my_list)\n",
        "print(f\"The original list is: {my_list}\")\n",
        "print(f\"The list with squared numbers is: {squared_result}\")"
      ],
      "metadata": {
        "colab": {
          "base_uri": "https://localhost:8080/"
        },
        "id": "HPAj0pGl8_Ho",
        "outputId": "7a902df2-6dc0-4685-8fd3-d57558f178e5"
      },
      "execution_count": 17,
      "outputs": [
        {
          "output_type": "stream",
          "name": "stdout",
          "text": [
            "The original list is: [1, 2, 3, 4, 5]\n",
            "The list with squared numbers is: [1, 4, 9, 16, 25]\n"
          ]
        }
      ]
    },
    {
      "cell_type": "code",
      "source": [
        "#  Write a Python function that checks if a given number is prime or not from 1 to 200.\n",
        "\n",
        "def is_prime(num):\n",
        "\n",
        "    if num <= 1:\n",
        "        return False  # Numbers less than or equal to 1 are not prime\n",
        "    for i in range(2, int(num**0.5) + 1):\n",
        "        if num % i == 0:\n",
        "            return False  # If divisible by any number in this range, it's not prime\n",
        "    return True  # If not divisible by any number in the range, it's prime\n",
        "\n",
        "# Example usage for numbers from 1 to 200:\n",
        "print(\"Prime numbers between 1 and 200:\")\n",
        "for number in range(1, 201):\n",
        "    if is_prime(number):\n",
        "        print(number)"
      ],
      "metadata": {
        "colab": {
          "base_uri": "https://localhost:8080/"
        },
        "id": "EQW9swJB_LYV",
        "outputId": "7ecef022-a83a-4f75-a587-8e75bccd54a9"
      },
      "execution_count": 25,
      "outputs": [
        {
          "output_type": "stream",
          "name": "stdout",
          "text": [
            "Prime numbers between 1 and 200:\n",
            "2\n",
            "3\n",
            "5\n",
            "7\n",
            "11\n",
            "13\n",
            "17\n",
            "19\n",
            "23\n",
            "29\n",
            "31\n",
            "37\n",
            "41\n",
            "43\n",
            "47\n",
            "53\n",
            "59\n",
            "61\n",
            "67\n",
            "71\n",
            "73\n",
            "79\n",
            "83\n",
            "89\n",
            "97\n",
            "101\n",
            "103\n",
            "107\n",
            "109\n",
            "113\n",
            "127\n",
            "131\n",
            "137\n",
            "139\n",
            "149\n",
            "151\n",
            "157\n",
            "163\n",
            "167\n",
            "173\n",
            "179\n",
            "181\n",
            "191\n",
            "193\n",
            "197\n",
            "199\n"
          ]
        }
      ]
    },
    {
      "cell_type": "code",
      "source": [
        "# Create an iterator class in Python that generates the Fibonacci sequence up to a specified number of terms.\n",
        "\n",
        "class FibonacciIterator:\n",
        "\n",
        "    def __init__(self, num_terms):\n",
        "        self.num_terms = num_terms\n",
        "        self.current_term = 0\n",
        "        self.a = 0\n",
        "        self.b = 1\n",
        "\n",
        "    def __iter__(self):\n",
        "        return self\n",
        "\n",
        "    def __next__(self):\n",
        "        if self.current_term < self.num_terms:\n",
        "            if self.current_term == 0:\n",
        "                self.current_term += 1\n",
        "                return self.a\n",
        "            elif self.current_term == 1:\n",
        "                self.current_term += 1\n",
        "                return self.b\n",
        "            else:\n",
        "                next_fib = self.a + self.b\n",
        "                self.a = self.b\n",
        "                self.b = next_fib\n",
        "                self.current_term += 1\n",
        "                return next_fib\n",
        "        else:\n",
        "            raise StopIteration\n",
        "\n",
        "# Example usage:\n",
        "fib_iterator = FibonacciIterator(10)\n",
        "print(\"Fibonacci sequence up to 10 terms:\")\n",
        "for term in fib_iterator:\n",
        "    print(term)"
      ],
      "metadata": {
        "colab": {
          "base_uri": "https://localhost:8080/"
        },
        "id": "jPdxMCiv_aSO",
        "outputId": "698799a7-e020-4fd3-b05a-c3bae303c41a"
      },
      "execution_count": 24,
      "outputs": [
        {
          "output_type": "stream",
          "name": "stdout",
          "text": [
            "Fibonacci sequence up to 10 terms:\n",
            "0\n",
            "1\n",
            "1\n",
            "2\n",
            "3\n",
            "5\n",
            "8\n",
            "13\n",
            "21\n",
            "34\n"
          ]
        }
      ]
    },
    {
      "cell_type": "code",
      "source": [
        "# Write a generator function in Python that yields the powers of 2 up to a given exponent.\n",
        "\n",
        "def powers_of_two(exponent):\n",
        "\n",
        "    power = 0\n",
        "    while power <= exponent:\n",
        "        yield 2 ** power\n",
        "        power += 1\n",
        "\n",
        "# Example usage:\n",
        "for p in powers_of_two(5):\n",
        "    print(p)"
      ],
      "metadata": {
        "colab": {
          "base_uri": "https://localhost:8080/"
        },
        "id": "ayjuvBBC_0SJ",
        "outputId": "1a2e5d14-b4fc-4c31-aa2e-7216d525c94d"
      },
      "execution_count": 23,
      "outputs": [
        {
          "output_type": "stream",
          "name": "stdout",
          "text": [
            "1\n",
            "2\n",
            "4\n",
            "8\n",
            "16\n",
            "32\n"
          ]
        }
      ]
    },
    {
      "cell_type": "code",
      "source": [
        "# Implement a generator function that reads a file line by line and yields each line as a string.\n",
        "\n",
        "import os\n",
        "\n",
        "def read_file_line_by_line(file_path):\n",
        "\n",
        "\n",
        "    if not os.path.exists(file_path):\n",
        "        print(f\"Error: File not found at {file_path}\")\n",
        "        return\n",
        "\n",
        "    with open(file_path, 'r') as file:\n",
        "        for line in file:\n",
        "            yield line.strip()\n",
        "\n",
        "with open(\"my_example_file.txt\", \"w\") as f:\n",
        "    f.write(file_content)\n",
        "\n",
        "\n",
        "print(\"Reading file line by line:\")\n",
        "for line in read_file_line_by_line(\"my_example_file.txt\"):\n",
        "    print(line)\n",
        "\n",
        "\n",
        "os.remove(\"my_example_file.txt\")"
      ],
      "metadata": {
        "colab": {
          "base_uri": "https://localhost:8080/"
        },
        "id": "TRUwvgdkAsMy",
        "outputId": "e144a9e2-c79c-4e50-d6a1-5b4ec6dece28"
      },
      "execution_count": 30,
      "outputs": [
        {
          "output_type": "stream",
          "name": "stdout",
          "text": [
            "Reading file line by line:\n",
            "This is the first line.\n",
            "This is the second line.\n",
            "This is the third line.\n"
          ]
        }
      ]
    },
    {
      "cell_type": "code",
      "source": [
        "#  Use a lambda function in Python to sort a list of tuples based on the second element of each tuple.\n",
        "\n",
        "\n",
        "my_list = [(1, 'c'), (2, 'a'), (3, 'b')]\n",
        "\n",
        "sorted_list = sorted(my_list, key=lambda item: item[1])\n",
        "\n",
        "print(f\"Original list: {my_list}\")\n",
        "print(f\"Sorted list based on the second element: {sorted_list}\")"
      ],
      "metadata": {
        "colab": {
          "base_uri": "https://localhost:8080/"
        },
        "id": "Gf4mIFkDBcUa",
        "outputId": "f15bc74a-1dc1-4802-f3bd-f3be7acbde36"
      },
      "execution_count": 26,
      "outputs": [
        {
          "output_type": "stream",
          "name": "stdout",
          "text": [
            "Original list: [(1, 'c'), (2, 'a'), (3, 'b')]\n",
            "Sorted list based on the second element: [(2, 'a'), (3, 'b'), (1, 'c')]\n"
          ]
        }
      ]
    },
    {
      "cell_type": "code",
      "source": [
        "#  Write a Python program that uses `map()` to convert a list of temperatures from Celsius to Fahrenheit.\n",
        "\n",
        "def celsius_to_fahrenheit(celsius):\n",
        "    return (celsius * 9/5) + 32\n",
        "\n",
        "celsius_temperatures = [0, 10, 20, 30, 40, 50]\n",
        "\n",
        "fahrenheit_temperatures = list(map(celsius_to_fahrenheit, celsius_temperatures))\n",
        "\n",
        "print(f\"Celsius temperatures: {celsius_temperatures}\")\n",
        "print(f\"Fahrenheit temperatures: {fahrenheit_temperatures}\")"
      ],
      "metadata": {
        "colab": {
          "base_uri": "https://localhost:8080/"
        },
        "id": "HII8AUIDBywf",
        "outputId": "d24b0195-69cd-4069-a8ed-5f0b6a52713e"
      },
      "execution_count": 29,
      "outputs": [
        {
          "output_type": "stream",
          "name": "stdout",
          "text": [
            "Celsius temperatures: [0, 10, 20, 30, 40, 50]\n",
            "Fahrenheit temperatures: [32.0, 50.0, 68.0, 86.0, 104.0, 122.0]\n"
          ]
        }
      ]
    },
    {
      "cell_type": "code",
      "source": [
        "# Create a Python program that uses `filter()` to remove all the vowels from a given string.\n",
        "\n",
        "def is_not_vowel(char):\n",
        "    \"\"\"\n",
        "    Checks if a character is not a vowel.\n",
        "    \"\"\"\n",
        "    vowels = \"aeiouAEIOU\"\n",
        "    return char not in vowels\n",
        "\n",
        "my_string = \"Hello, World!\"\n",
        "\n",
        "\n",
        "filtered_chars = filter(is_not_vowel, my_string)\n",
        "\n",
        "result_string = \"\".join(filtered_chars)\n",
        "\n",
        "print(f\"Original string: {my_string}\")\n",
        "print(f\"String with vowels removed: {result_string}\")"
      ],
      "metadata": {
        "colab": {
          "base_uri": "https://localhost:8080/"
        },
        "id": "B4AwiWScCCKK",
        "outputId": "a6e3547c-6d3e-4ef2-c81c-d171c66b6e45"
      },
      "execution_count": 31,
      "outputs": [
        {
          "output_type": "stream",
          "name": "stdout",
          "text": [
            "Original string: Hello, World!\n",
            "String with vowels removed: Hll, Wrld!\n"
          ]
        }
      ]
    },
    {
      "cell_type": "code",
      "source": [
        "# Imagine an accounting routine used in a book shop. It works on a list with sublists, which look like this:\n",
        "\"\"\"Write a Python program, which returns a list with 2-tuples. Each tuple consists of the order number and the\n",
        "product of the price per item and the quantity. The product should be increased by 10,- € if the value of the\n",
        "order is smaller than 100,00 €. Write a Python program using lambda and map\"\"\"\n",
        "\n",
        "# Sample data\n",
        "books = [\n",
        "    [34587, \"Learning Python, Mark Lutz\", 4, 40.95],\n",
        "    [98762, \"Programming Python, Mark Lutz\", 5, 56.80],\n",
        "    [77226, \"Head First Python, Paul Barry\", 3, 32.95],\n",
        "    [88112, \"Einführung in Python3, Bernd Klein\", 3, 24.99]\n",
        "]\n",
        "\n",
        "# Using map and lambda to generate the required 2-tuple list\n",
        "result = list(map(lambda x: (x[0], x[2] * x[3] if x[2] * x[3] >= 100 else x[2] * x[3] + 10), books))\n",
        "\n",
        "print(result)\n"
      ],
      "metadata": {
        "colab": {
          "base_uri": "https://localhost:8080/"
        },
        "id": "DHkgvuj4GRYF",
        "outputId": "c7ed8cba-1008-4d9d-f047-46a33ffe1536"
      },
      "execution_count": 41,
      "outputs": [
        {
          "output_type": "stream",
          "name": "stdout",
          "text": [
            "[(34587, 163.8), (98762, 284.0), (77226, 108.85000000000001), (88112, 84.97)]\n"
          ]
        }
      ]
    }
  ]
}